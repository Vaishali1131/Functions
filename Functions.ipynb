{
  "nbformat": 4,
  "nbformat_minor": 0,
  "metadata": {
    "colab": {
      "provenance": []
    },
    "kernelspec": {
      "name": "python3",
      "display_name": "Python 3"
    },
    "language_info": {
      "name": "python"
    }
  },
  "cells": [
    {
      "cell_type": "markdown",
      "source": [
        "1. What is the difference between a function and a method in Python?\n",
        "\n",
        " - they differ in how they are used and where they are defined.  \n",
        "\n",
        " - Definition and Use\n",
        "\n",
        "-  Function: A function is a standalone block of code that is defined using the def keyword. It is\n",
        "independent of any class, meaning it’s not associated with any specific object or data structure. You\n",
        "can call a function directly by its name.\n",
        " Example:"
      ],
      "metadata": {
        "id": "XWv4EixpugVt"
      }
    },
    {
      "cell_type": "markdown",
      "source": [
        "Example:"
      ],
      "metadata": {
        "id": "2ylpjCg-v_eC"
      }
    },
    {
      "cell_type": "code",
      "metadata": {
        "colab": {
          "base_uri": "https://localhost:8080/"
        },
        "id": "2f58c40d",
        "outputId": "45470b63-133b-4e06-b993-73c60f5f8b09"
      },
      "source": [
        "def my_function(x):\n",
        "  return x * 2\n",
        "\n",
        "result = my_function(5)\n",
        "print(result)"
      ],
      "execution_count": 1,
      "outputs": [
        {
          "output_type": "stream",
          "name": "stdout",
          "text": [
            "10\n"
          ]
        }
      ]
    },
    {
      "cell_type": "markdown",
      "source": [
        "Method: A method is a function that is defined within a class and is meant to operate on instances of\n",
        "that class. It is called on an object (or instance) of the class, and it can access the data (attributes) of\n",
        "the object through the self parameter."
      ],
      "metadata": {
        "id": "lN36TUP8wM7J"
      }
    },
    {
      "cell_type": "code",
      "metadata": {
        "colab": {
          "base_uri": "https://localhost:8080/"
        },
        "id": "1090d29a",
        "outputId": "1d5fa659-0729-47c9-a673-e363f88c9a3c"
      },
      "source": [
        "class MyClass:\n",
        "  def my_method(self, x):\n",
        "    return x + 10\n",
        "\n",
        "obj = MyClass()\n",
        "result = obj.my_method(5)\n",
        "print(result)"
      ],
      "execution_count": 2,
      "outputs": [
        {
          "output_type": "stream",
          "name": "stdout",
          "text": [
            "15\n"
          ]
        }
      ]
    },
    {
      "cell_type": "markdown",
      "source": [
        "- Binding to Objects\n",
        "\n",
        " - Function: Functions are not bound to any object. They work independently and can be called with just\n",
        "their parameters.\n",
        " - Method: Methods are bound to the objects of the class they belong to. When you call a method, it\n",
        "implicitly passes the object itself (referred to as self) as the first argument."
      ],
      "metadata": {
        "id": "09Yp4qVbwWXk"
      }
    },
    {
      "cell_type": "markdown",
      "source": [
        " - Usage Context\n",
        " - Function: Functions are typically used when you need a general-purpose piece of code that can work\n",
        "on various data inputs without needing access to any specific class or object.\n",
        "\n",
        "- Method: Methods are used when you need a function that works within the context of a class, often to\n",
        "perform operations on or with the data stored within an instance of the class.\n",
        "\n",
        "                                        \n"
      ],
      "metadata": {
        "id": "tcOruAFvw-gU"
      }
    },
    {
      "cell_type": "markdown",
      "metadata": {
        "id": "88bc1af8"
      },
      "source": [
        "Here's a summary table:\n",
        "\n",
        "| Aspect        | `def` Function                    | `lambda` Function                 | Method (within a Class)         |\n",
        "|---------------|-----------------------------------|-----------------------------------|---------------------------------|\n",
        "| Definition    | `def function_name(parameters):`  | `lambda parameters: expression`   | `def method_name(self, parameters):` |\n",
        "| Usage         | Standalone, independent         | Small, single-expression          | Associated with a class object  |\n",
        "| Naming        | Requires a name                 | Anonymous (no explicit name)    | Requires a name                 |\n",
        "| Return Value  | Can have multiple return statements | Returns the result of the expression | Can have multiple return statements |\n",
        "| Complexity    | Can handle complex logic          | Limited to single expressions   | Can handle complex logic        |"
      ]
    },
    {
      "cell_type": "code",
      "metadata": {
        "colab": {
          "base_uri": "https://localhost:8080/"
        },
        "id": "40930e07",
        "outputId": "1fb312f3-90dd-4668-c819-1264b93da925"
      },
      "source": [
        "# Example of different ways to define and call functions\n",
        "\n",
        "# 1. Standard function definition and calling with positional arguments\n",
        "def greet(name, greeting):\n",
        "  return f\"{greeting}, {name}!\"\n",
        "\n",
        "print(greet(\"Alice\", \"Hello\"))\n",
        "\n",
        "# 2. Lambda function and calling\n",
        "add = lambda x, y: x + y\n",
        "print(add(3, 5))\n",
        "\n",
        "# 3. Method within a class and calling\n",
        "class Calculator:\n",
        "  def multiply(self, a, b):\n",
        "    return a * b\n",
        "\n",
        "calc = Calculator()\n",
        "print(calc.multiply(4, 6))\n",
        "\n",
        "# 4. Calling with keyword arguments\n",
        "print(greet(greeting=\"Hi\", name=\"Bob\"))\n",
        "\n",
        "# 5. Calling with arbitrary positional arguments (*args)\n",
        "def sum_all(*args):\n",
        "  return sum(args)\n",
        "\n",
        "print(sum_all(1, 2, 3, 4))\n",
        "\n",
        "# 6. Calling with arbitrary keyword arguments (**kwargs)\n",
        "def display_info(**kwargs):\n",
        "  for key, value in kwargs.items():\n",
        "    print(f\"{key}: {value}\")\n",
        "\n",
        "display_info(name=\"Charlie\", age=30, city=\"New York\")"
      ],
      "execution_count": 3,
      "outputs": [
        {
          "output_type": "stream",
          "name": "stdout",
          "text": [
            "Hello, Alice!\n",
            "8\n",
            "24\n",
            "Hi, Bob!\n",
            "10\n",
            "name: Charlie\n",
            "age: 30\n",
            "city: New York\n"
          ]
        }
      ]
    },
    {
      "cell_type": "markdown",
      "source": [
        "2. Explain the concept of function arguments and parameters in Python.\n",
        "\n",
        "Parameters\n",
        "\n",
        "- Parameters are the names listed in the function definition. They are placeholders for the values that the function expects to receive.\n",
        "\n",
        "\n"
      ],
      "metadata": {
        "id": "5wGpZLMu0hXy"
      }
    },
    {
      "source": [
        "def greet(name, greeting): # 'name' and 'greeting' are parameters\n",
        "  return f\"{greeting}, {name}!\"\n",
        "\n",
        "print(greet(\"Alice\", \"Hello\")) # \"Alice\" and \"Hello\" are arguments"
      ],
      "cell_type": "code",
      "metadata": {
        "id": "1jTjivMx3q5C"
      },
      "execution_count": null,
      "outputs": []
    },
    {
      "cell_type": "markdown",
      "source": [
        "Arguments:\n",
        "\n",
        " - Functionality related to object’s data or     Parameters are the variable names listed in a function’s definition. They act as placeholders that\n",
        "allow you to pass data into the function.\n",
        " When you define a function, you specify parameters to indicate the kind of information the function\n",
        "expects to receive.\n",
        ""
      ],
      "metadata": {
        "id": "YeOdnsoH4OYr"
      }
    },
    {
      "source": [
        "def greet(name, greeting): # 'name' and 'greeting' are parameters\n",
        "  return f\"{greeting}, {name}!\"\n",
        "\n",
        "print(greet(\"Alice\", \"Hello\")) # \"Alice\" and \"Hello\" are arguments"
      ],
      "cell_type": "code",
      "metadata": {
        "id": "E9WM6v534qoF"
      },
      "execution_count": null,
      "outputs": []
    },
    {
      "cell_type": "markdown",
      "source": [],
      "metadata": {
        "id": "fmDjX63M4FRA"
      }
    },
    {
      "cell_type": "markdown",
      "source": [
        "Types of Function Arguments in Python\n",
        "\n",
        " Python allows several ways of passing arguments to functions:\n",
        "\n",
        " Positional Arguments:\n",
        "These are the simplest type of arguments. The order in which they are passed matters, as they are\n",
        "assigned to parameters based on their position."
      ],
      "metadata": {
        "id": "1ZeXJz_Z4vPg"
      }
    },
    {
      "source": [
        "# 1. Standard function definition and calling with positional arguments\n",
        "def greet(name, greeting):\n",
        "  return f\"{greeting}, {name}!\"\n",
        "\n",
        "print(greet(\"Alice\", \"Hello\"))"
      ],
      "cell_type": "code",
      "metadata": {
        "id": "eJW3pwjf4_y4"
      },
      "execution_count": null,
      "outputs": []
    },
    {
      "cell_type": "markdown",
      "source": [
        "Keyword Arguments:\n",
        "\n",
        " With keyword arguments, you can specify values by the parameter name, allowing you to pass arguments\n",
        "in any order.\n",
        " They are written in the form parameter=value"
      ],
      "metadata": {
        "id": "P6y3j6tV5BPi"
      }
    },
    {
      "cell_type": "markdown",
      "source": [
        "Example"
      ],
      "metadata": {
        "id": "vj1b0MZs5yvt"
      }
    },
    {
      "source": [
        "# 4. Calling with keyword arguments\n",
        "print(greet(greeting=\"Hi\", name=\"Bob\"))"
      ],
      "cell_type": "code",
      "metadata": {
        "id": "litJf4lt5KF8"
      },
      "execution_count": null,
      "outputs": []
    },
    {
      "cell_type": "markdown",
      "source": [
        "Default Arguments\n",
        "\n",
        "  - Default arguments let you assign default values to parameters. If an argument is not provided, the function will use the default value.\n",
        "\n",
        "- You set default values by assigning values to parameters in the function definition"
      ],
      "metadata": {
        "id": "z6ca0VjG5Zq5"
      }
    },
    {
      "cell_type": "markdown",
      "source": [
        "Example:"
      ],
      "metadata": {
        "id": "2DYipvZ_5u3t"
      }
    },
    {
      "cell_type": "code",
      "metadata": {
        "colab": {
          "base_uri": "https://localhost:8080/"
        },
        "id": "4021178b",
        "outputId": "fee53607-2f0c-4959-91b0-697f4dce7207"
      },
      "source": [
        "def greet_with_default(name, greeting=\"Hello\"):\n",
        "  \"\"\"Greets a person with an optional custom greeting.\"\"\"\n",
        "  return f\"{greeting}, {name}!\"\n",
        "\n",
        "# Call with a custom greeting\n",
        "print(greet_with_default(\"Alice\", \"Hi\"))\n",
        "\n",
        "# Call without a greeting (uses the default \"Hello\")\n",
        "print(greet_with_default(\"Bob\"))"
      ],
      "execution_count": 5,
      "outputs": [
        {
          "output_type": "stream",
          "name": "stdout",
          "text": [
            "Hi, Alice!\n",
            "Hello, Bob!\n"
          ]
        }
      ]
    },
    {
      "cell_type": "markdown",
      "source": [
        " Variable-Length Arguments\n",
        "\n",
        " - Sometimes you may want a function to accept a variable number of arguments.\n",
        "\n",
        " - *args (Non-Keyword Variable Arguments):\n",
        " Using *args allows a function to accept any number of positional arguments, which are collected into a tuple.\n",
        "\n",
        "Example:"
      ],
      "metadata": {
        "id": "esCQ2UaE6Fg6"
      }
    },
    {
      "source": [
        "# 5. Calling with arbitrary positional arguments (*args)\n",
        "def sum_all(*args):\n",
        "  return sum(args)\n",
        "\n",
        "print(sum_all(1, 2, 3, 4))"
      ],
      "cell_type": "code",
      "metadata": {
        "id": "07JZF7Ww6XKp"
      },
      "execution_count": null,
      "outputs": []
    },
    {
      "cell_type": "markdown",
      "source": [
        "**kwargs (Keyword Variable Arguments):\n",
        "\n",
        " Using **kwargs allows a function to accept any number of keyword arguments, which are collected into a\n",
        "dictionary.\n",
        "\n",
        "Example:"
      ],
      "metadata": {
        "id": "pjZ_ob6w6fw5"
      }
    },
    {
      "source": [
        "# 6. Calling with arbitrary keyword arguments (**kwargs)\n",
        "def display_info(**kwargs):\n",
        "  for key, value in kwargs.items():\n",
        "    print(f\"{key}: {value}\")\n",
        "\n",
        "display_info(name=\"Charlie\", age=30, city=\"New York\")"
      ],
      "cell_type": "code",
      "metadata": {
        "id": "EbSAfb6w6rND"
      },
      "execution_count": null,
      "outputs": []
    },
    {
      "cell_type": "markdown",
      "metadata": {
        "id": "8c7eb067"
      },
      "source": [
        "Here is a summary table for parameters and arguments:\n",
        "\n",
        "| Term      | Description                                         | Example           |\n",
        "|-----------|-----------------------------------------------------|-------------------|\n",
        "| Parameter | Variable in the function definition               | `def greet(name):` |\n",
        "| Argument  | Actual value passed to the function during the call | `greet(\"Alice\")`  |"
      ]
    },
    {
      "cell_type": "markdown",
      "source": [
        "3. What are the different ways to define and call a function in Python?\n",
        "\n",
        "In Python, there are several ways to define and call functions, each useful in different scenarios.\n",
        "\n",
        "Let's go\n",
        "through the most common methods:\n",
        "\n",
        "Standard Function Definition:\n",
        "Functions are typically defined using the def keyword, followed by a name, parameters, and a body.\n",
        "\n"
      ],
      "metadata": {
        "id": "gDPVP0v57LbJ"
      }
    },
    {
      "source": [
        "def my_function(x):\n",
        "  return x * 2\n",
        "\n",
        "result = my_function(5)\n",
        "print(result)"
      ],
      "cell_type": "code",
      "metadata": {
        "id": "WV8ERUM57q2O"
      },
      "execution_count": null,
      "outputs": []
    },
    {
      "cell_type": "markdown",
      "source": [
        "Function with Default Parameters\n",
        "\n",
        "You can set default values for parameters. If no argument is passed, the function uses the default\n",
        "values.\n",
        "\n",
        "Example:"
      ],
      "metadata": {
        "id": "sqgNkFDp7ur2"
      }
    },
    {
      "source": [
        "def greet_with_default(name, greeting=\"Hello\"):\n",
        "  \"\"\"Greets a person with an optional custom greeting.\"\"\"\n",
        "  return f\"{greeting}, {name}!\"\n",
        "\n",
        "# Call with a custom greeting\n",
        "print(greet_with_default(\"Alice\", \"Hi\"))\n",
        "\n",
        "# Call without a greeting (uses the default \"Hello\")\n",
        "print(greet_with_default(\"Bob\"))"
      ],
      "cell_type": "code",
      "metadata": {
        "id": "7X4efdDX78V6"
      },
      "execution_count": null,
      "outputs": []
    },
    {
      "cell_type": "markdown",
      "source": [
        "Lambda (Anonymous) Functions\n",
        "\n",
        "A lambda function is a single-line, anonymous function defined with the lambda keyword, mainly used\n",
        "for short, simple operations.\n",
        "\n",
        "Example:"
      ],
      "metadata": {
        "id": "9QyVAwOg8AF_"
      }
    },
    {
      "source": [
        "# 2. Lambda function and calling\n",
        "add = lambda x, y: x + y\n",
        "print(add(3, 5))"
      ],
      "cell_type": "code",
      "metadata": {
        "id": "Z9M6p4IH8PY8"
      },
      "execution_count": null,
      "outputs": []
    },
    {
      "cell_type": "markdown",
      "source": [
        "Using *args for Variable-Length Positional Arguments\n",
        " *args allows you to pass a variable number of positional arguments to a function.\n",
        "\n",
        "Example:"
      ],
      "metadata": {
        "id": "XG7p5ks08ke1"
      }
    },
    {
      "source": [
        "# 5. Calling with arbitrary positional arguments (*args)\n",
        "def sum_all(*args):\n",
        "  return sum(args)\n",
        "\n",
        "print(sum_all(1, 2, 3, 4))"
      ],
      "cell_type": "code",
      "metadata": {
        "id": "dW9Y9ldB8nLw"
      },
      "execution_count": null,
      "outputs": []
    },
    {
      "cell_type": "markdown",
      "source": [
        "Using **kwargs for Variable-Length Keyword Arguments\n",
        "\n",
        "**kwargs allows passing a variable number of keyword arguments, which are collected into a dictionary.\n",
        "\n",
        "Example:"
      ],
      "metadata": {
        "id": "Z8jKp3XZ8515"
      }
    },
    {
      "source": [
        "# 6. Calling with arbitrary keyword arguments (**kwargs)\n",
        "def display_info(**kwargs):\n",
        "  for key, value in kwargs.items():\n",
        "    print(f\"{key}: {value}\")\n",
        "\n",
        "display_info(name=\"Charlie\", age=30, city=\"New York\")"
      ],
      "cell_type": "code",
      "metadata": {
        "id": "L3ryGWZt9T2J"
      },
      "execution_count": null,
      "outputs": []
    },
    {
      "cell_type": "markdown",
      "source": [
        "Calling Functions as Arguments\n",
        "\n",
        " - You can pass functions as arguments to other functions, which is common in higher-order functions.\n",
        "\n",
        "Example:"
      ],
      "metadata": {
        "id": "T6t9k2aH9Veq"
      }
    },
    {
      "cell_type": "code",
      "metadata": {
        "colab": {
          "base_uri": "https://localhost:8080/"
        },
        "id": "46c50ef2",
        "outputId": "c5bd4fdc-3ad4-4192-c667-cef71b716c60"
      },
      "source": [
        "def apply_operation(func, x, y):\n",
        "  \"\"\"Applies a given function to two arguments.\"\"\"\n",
        "  return func(x, y)\n",
        "\n",
        "def add(a, b):\n",
        "  return a + b\n",
        "\n",
        "def multiply(a, b):\n",
        "  return a * b\n",
        "\n",
        "# Pass the add function as an argument\n",
        "result_add = apply_operation(add, 5, 3)\n",
        "print(f\"Applying add: {result_add}\")\n",
        "\n",
        "# Pass the multiply function as an argument\n",
        "result_multiply = apply_operation(multiply, 5, 3)\n",
        "print(f\"Applying multiply: {result_multiply}\")"
      ],
      "execution_count": 6,
      "outputs": [
        {
          "output_type": "stream",
          "name": "stdout",
          "text": [
            "Applying add: 8\n",
            "Applying multiply: 15\n"
          ]
        }
      ]
    },
    {
      "cell_type": "markdown",
      "source": [
        "Calling Functions Recursively\n",
        "\n",
        "- A function can call itself, which is known as recursion. This is useful for problems like calculating factorials or\n",
        "traversing data structures.\n",
        "Example"
      ],
      "metadata": {
        "id": "6hgnrV9l9ktS"
      }
    },
    {
      "cell_type": "code",
      "metadata": {
        "colab": {
          "base_uri": "https://localhost:8080/"
        },
        "id": "5d6c41af",
        "outputId": "df9ea95e-02a2-4e13-e214-1316aea06640"
      },
      "source": [
        "def factorial(n):\n",
        "  \"\"\"Calculates the factorial of a non-negative integer recursively.\"\"\"\n",
        "  if n == 0:\n",
        "    return 1  # Base case: factorial of 0 is 1\n",
        "  else:\n",
        "    return n * factorial(n-1) # Recursive step: n! = n * (n-1)!\n",
        "\n",
        "# Example usage\n",
        "num = 5\n",
        "print(f\"The factorial of {num} is {factorial(num)}\")\n",
        "\n",
        "num = 0\n",
        "print(f\"The factorial of {num} is {factorial(num)}\")"
      ],
      "execution_count": 7,
      "outputs": [
        {
          "output_type": "stream",
          "name": "stdout",
          "text": [
            "The factorial of 5 is 120\n",
            "The factorial of 0 is 1\n"
          ]
        }
      ]
    },
    {
      "cell_type": "markdown",
      "source": [
        "Using map with Lambda or Regular Functions\n",
        "\n",
        "- You can use map with functions to apply a function over"
      ],
      "metadata": {
        "id": "7nNeWGt3-Afc"
      }
    },
    {
      "cell_type": "code",
      "metadata": {
        "colab": {
          "base_uri": "https://localhost:8080/"
        },
        "id": "ef001c7c",
        "outputId": "5f673eda-aded-4c1b-f5e3-db3134dea704"
      },
      "source": [
        "# Using map with a regular function\n",
        "def square(x):\n",
        "  return x**2\n",
        "\n",
        "numbers = [1, 2, 3, 4, 5]\n",
        "squared_numbers = map(square, numbers)\n",
        "\n",
        "# map returns an iterator, so you often convert it to a list to see the results\n",
        "print(f\"Using a regular function: {list(squared_numbers)}\")\n",
        "\n",
        "# Using map with a lambda function\n",
        "cubed_numbers = map(lambda x: x**3, numbers)\n",
        "print(f\"Using a lambda function: {list(cubed_numbers)}\")"
      ],
      "execution_count": 8,
      "outputs": [
        {
          "output_type": "stream",
          "name": "stdout",
          "text": [
            "Using a regular function: [1, 4, 9, 16, 25]\n",
            "Using a lambda function: [1, 8, 27, 64, 125]\n"
          ]
        }
      ]
    },
    {
      "cell_type": "markdown",
      "source": [
        "4:What is the purpose of return statement in python function?  \n",
        "\n",
        "- The main purposes of the return statement are:\n",
        " Provide Output: It enables the function to pass data back to the code that called it, making the function\n",
        "useful for calculations, transformations, and data retrieval.\n",
        "\n",
        "- End Function Execution: When Python encounters a return statement, it immediately exits the function,\n",
        "skipping any remaining code in the function body.\n",
        "\n",
        "- Allow Reusability: By returning values, functions can be reused in different parts of a program, enabling\n",
        "modular and efficient code.\n",
        "\n",
        "- If no return statement is used, the function returns None by default, meaning it does not send any specific\n",
        "output back."
      ],
      "metadata": {
        "id": "mMBQMYJR-aUS"
      }
    },
    {
      "cell_type": "markdown",
      "source": [
        "5: What are iterators in python and how do they differ from iterables?\n",
        "\n",
        "- In Python, iterators and iterables are both fundamental concepts for handling data sequences, but\n",
        "they serve different roles. Here’s an explanation of each and how they differ:\n",
        "\n",
        "- An iterable is any Python object capable of returning its members one at a time, making it usable in a for\n",
        "loop or with other iteration tools like map, filter, and list comprehensions.\n",
        "\n",
        "- Common examples of iterables include data structures like lists, tuples, dictionaries, sets, and strings. These\n",
        "objects have an __iter__() method, which allows them to return an iterator when needed.\n",
        "\n",
        "- Essentially, if an object can be looped over, it’s considered an iterable.\n",
        "\n",
        "Example:"
      ],
      "metadata": {
        "id": "XwhbluAZ-tOQ"
      }
    },
    {
      "cell_type": "code",
      "metadata": {
        "colab": {
          "base_uri": "https://localhost:8080/"
        },
        "id": "48136403",
        "outputId": "d9402ad0-ae87-4068-b775-211d8ccf99f5"
      },
      "source": [
        "# Example of an iterable (a list)\n",
        "my_list = [1, 2, 3, 4, 5]\n",
        "\n",
        "# You can loop over an iterable\n",
        "print(\"Iterating over a list:\")\n",
        "for item in my_list:\n",
        "  print(item)\n",
        "\n",
        "# Strings are also iterables\n",
        "my_string = \"Hello\"\n",
        "print(\"\\nIterating over a string:\")\n",
        "for char in my_string:\n",
        "  print(char)"
      ],
      "execution_count": 9,
      "outputs": [
        {
          "output_type": "stream",
          "name": "stdout",
          "text": [
            "Iterating over a list:\n",
            "1\n",
            "2\n",
            "3\n",
            "4\n",
            "5\n",
            "\n",
            "Iterating over a string:\n",
            "H\n",
            "e\n",
            "l\n",
            "l\n",
            "o\n"
          ]
        }
      ]
    },
    {
      "cell_type": "markdown",
      "source": [
        "Iterator\n",
        "\n",
        "- An iterator is a special object that enables Python to fetch items from an iterable one at a time.\n",
        " You can get an iterator from an iterable by calling iter() on it. The iterator itself has a __next__() method, which returns the next item from the sequence each time it’s called. Once the items are exhausted,\n",
        "__next__() raises a StopIteration exception"
      ],
      "metadata": {
        "id": "urDK3nEe_AJn"
      }
    },
    {
      "cell_type": "code",
      "metadata": {
        "colab": {
          "base_uri": "https://localhost:8080/"
        },
        "id": "907cec06",
        "outputId": "72c0aa4d-bc78-44f2-dd3c-7662ecf0e0b1"
      },
      "source": [
        "# Example of getting an iterator from an iterable\n",
        "my_list = [10, 20, 30]\n",
        "\n",
        "# Get an iterator from the list\n",
        "my_iterator = iter(my_list)\n",
        "\n",
        "# Use the __next__() method to get items one by one\n",
        "print(next(my_iterator)) # or my_iterator.__next__()\n",
        "print(next(my_iterator))\n",
        "print(next(my_iterator))\n",
        "\n",
        "# Calling next() again will raise StopIteration\n",
        "try:\n",
        "  print(next(my_iterator))\n",
        "except StopIteration:\n",
        "  print(\"End of iteration\")"
      ],
      "execution_count": 10,
      "outputs": [
        {
          "output_type": "stream",
          "name": "stdout",
          "text": [
            "10\n",
            "20\n",
            "30\n",
            "End of iteration\n"
          ]
        }
      ]
    },
    {
      "cell_type": "markdown",
      "source": [
        "6. Explain the concept of generators in python and how they are defined?\n",
        "\n",
        "- In Python, generators are a special type of iterator that allow you to iterate over data without storing\n",
        "the entire sequence in memory at once. They provide an efficient way to handle large datasets or streams of\n",
        "data by generating values one at a time, only when needed. Generators are especially useful in scenarios\n",
        "where you don’t need all the data at once, like reading lines from a file or generating an infinite sequence of\n",
        "numbers.\n",
        "\n",
        "- Generators are defined using either:\n",
        " Generator Functions: Functions that use the yield keyword instead of return.\n",
        " Generator Expressions: Similar to list comprehensions, but using parentheses () instead of square brackets\n",
        "[].\n",
        "\n",
        "1. Generator Functions\n",
        "A generator function is defined like a regular function but includes the yield keyword. Each time yield is\n",
        "encountered, the function pauses and yields a value to the caller, resuming on the next next() call.\n",
        "\n",
        "Example"
      ],
      "metadata": {
        "id": "T3gc7NBX_mbY"
      }
    },
    {
      "cell_type": "code",
      "metadata": {
        "colab": {
          "base_uri": "https://localhost:8080/"
        },
        "id": "fa51ecf2",
        "outputId": "8520927d-b33f-4bfa-be03-f3a5bf417b05"
      },
      "source": [
        "def count_up_to(n):\n",
        "  \"\"\"A generator function that yields numbers from 1 up to n.\"\"\"\n",
        "  i = 1\n",
        "  while i <= n:\n",
        "    yield i\n",
        "    i += 1\n",
        "\n",
        "# Using the generator function\n",
        "counter = count_up_to(5)\n",
        "\n",
        "print(\"Using the generator:\")\n",
        "print(next(counter))\n",
        "print(next(counter))\n",
        "print(next(counter))\n",
        "\n",
        "# You can also iterate over a generator using a for loop\n",
        "print(\"\\nIterating with a for loop:\")\n",
        "for num in count_up_to(3):\n",
        "  print(num)"
      ],
      "execution_count": 11,
      "outputs": [
        {
          "output_type": "stream",
          "name": "stdout",
          "text": [
            "Using the generator:\n",
            "1\n",
            "2\n",
            "3\n",
            "\n",
            "Iterating with a for loop:\n",
            "1\n",
            "2\n",
            "3\n"
          ]
        }
      ]
    },
    {
      "cell_type": "markdown",
      "source": [
        "Generator Expressions\n",
        "\n",
        "A generator expression is a concise way to create a generator, similar to list comprehensions but with\n",
        "parentheses. It’s useful for quick, on-the-fly generation of data. Example:"
      ],
      "metadata": {
        "id": "_1BPHeDuAKAW"
      }
    },
    {
      "cell_type": "code",
      "metadata": {
        "colab": {
          "base_uri": "https://localhost:8080/"
        },
        "id": "b736dedc",
        "outputId": "f41867e7-e4fc-4dbc-b0d6-a9b81fcebef9"
      },
      "source": [
        "# Example of a generator expression\n",
        "squared_numbers_gen = (x**2 for x in range(5))\n",
        "\n",
        "print(\"Using a generator expression:\")\n",
        "\n",
        "# You can iterate through a generator expression\n",
        "print(next(squared_numbers_gen))\n",
        "print(next(squared_numbers_gen))\n",
        "print(next(squared_numbers_gen))\n",
        "\n",
        "# You can also convert it to a list (consumes the generator)\n",
        "# print(list(squared_numbers_gen))\n",
        "\n",
        "# Or iterate with a for loop\n",
        "# for num in (x**2 for x in range(5)):\n",
        "#   print(num)"
      ],
      "execution_count": 12,
      "outputs": [
        {
          "output_type": "stream",
          "name": "stdout",
          "text": [
            "Using a generator expression:\n",
            "0\n",
            "1\n",
            "4\n"
          ]
        }
      ]
    },
    {
      "cell_type": "markdown",
      "source": [
        "7. What are the advantages of using generators over regular function?\n",
        "\n",
        "- Advantages of Generators\n",
        " Memory Efficiency: They don’t require storing the entire dataset in memory.\n",
        " Improved Performance: Especially when working with large datasets, since they generate items as needed.\n",
        " Simplified Code: Generators make it easy to write iterators without needing to manage the iterator’s state\n",
        "explicitly."
      ],
      "metadata": {
        "id": "CJJGo3poAsnr"
      }
    },
    {
      "cell_type": "markdown",
      "source": [
        "8. What is a lambda function in python and when it is typically used?\n",
        "\n",
        "- A lambda function in Python is a small anonymous function defined using the lambda keyword. Unlike\n",
        "regular functions defined with the def keyword, lambda functions are typically used for short, simple operations\n",
        "where the function body is a single expression. They can take any number of arguments but can only have one\n",
        "expression, which is evaluated and returned.\n",
        "\n",
        "- Syntax:\n",
        "lambda arguments: expression\n",
        "Where arguments: The input parameters for the function (can be multiple, separated by commas).\n",
        "expression: A single expression that gets evaluated and returned.\n",
        "\n",
        "- Example:  \n",
        "add = lambda x, y: x + y\n",
        "result = add(5, 3)  # Output: 8\n",
        "Typical Use Cases for Lambda Functions\n",
        " Purpose of map()\n",
        "\n",
        " Short Functions: When you need a quick function for a short task that won’t be reused elsewhere, lambda\n",
        "functions provide a concise way to define it inline.\n",
        "\n",
        " Higher-Order Functions: Lambda functions are often used as arguments to higher-order functions(functions that take other functions as arguments). This is common in functions like map(), filter(), and\n",
        "sorted()."
      ],
      "metadata": {
        "id": "MvvGwhUxA8Gi"
      }
    },
    {
      "cell_type": "markdown",
      "source": [
        "9.  Explain the purpose and usage of the `map()` function in Python.\n",
        "\n",
        "- The map() function in Python is a built-in function used to apply a specified function to each item of\n",
        "an iterable (like a list, tuple, or string) and return a map object (which is an iterator). The main purpose of map() is to facilitate functional programming by enabling transformation or computation on iterable elementsin a concise and efficient manner.\n",
        "\n",
        "- Transformation: map() is primarily used to transform data in an iterable by applying a function to each\n",
        "element.\n",
        "\n",
        "- Efficiency: It can provide performance benefits by avoiding the overhead of explicit loops and supporting\n",
        "lazy evaluation, which means values are produced only as needed."
      ],
      "metadata": {
        "id": "SLV96P6BBV8a"
      }
    },
    {
      "cell_type": "markdown",
      "source": [
        " 10. What is the difference between `map()`, `reduce()`, and `filter()` functions in Python?\n",
        "\n",
        "Answer: Difference"
      ],
      "metadata": {
        "id": "gZmAwFqkBrGx"
      }
    },
    {
      "cell_type": "markdown",
      "metadata": {
        "id": "d52710e8"
      },
      "source": [
        "Here is a table comparing `map()`, `filter()`, and `reduce()`:\n",
        "\n",
        "| Aspect      | `map()`                               | `filter()`                               | `reduce()`                             |\n",
        "|-------------|---------------------------------------|------------------------------------------|----------------------------------------|\n",
        "| Purpose     | Apply a function to each item         | Filter items based on a condition        | Cumulatively apply a function          |\n",
        "| Output      | New iterable with transformed items   | New iterable with filtered items         | Single cumulative value                |\n",
        "| Function    | Takes a function and an iterable(s)   | Takes a function and an iterable         | Takes a function and an iterable       |\n",
        "| Signature   | `map(function, iterable, ...)`        | `filter(function, iterable)`             | `reduce(function, iterable[, initializer])` |\n",
        "| Use Case    | Transforming elements                 | Selecting elements                       | Reducing elements to a single value    |"
      ]
    },
    {
      "cell_type": "markdown",
      "source": [
        "11. Using pen & Paper write the internal mechanism for sum operation using  reduce function on this given\n",
        "list:[47,11,42,13];\n",
        "\n",
        "The reduce() function, which you'd import from functools, works by applying a function cumulatively to the items of an iterable, from left to right, so as to reduce the iterable to a single value.\n",
        "\n",
        "Here's how it would work step-by-step with your list and an add function (where add(x, y) simply returns x + y):\n",
        "\n",
        "Step 1: reduce() takes the first two elements of the list, 47 and 11. It applies the add function to them: add(47, 11). The result is 58.\n",
        "Step 2: reduce() then takes the result from Step 1 (58) and the next element in the list (42). It applies the add function: add(58, 42). The result is 100.\n",
        "Step 3: reduce() takes the result from Step 2 (100) and the next element in the list (13). It applies the add function: add(100, 13). The result is 113.\n",
        "Final Result: There are no more elements in the list. The final result of the reduce() operation is 113.\n",
        "So, reduce(add, [47, 11, 42, 13]) effectively calculates (((47 + 11) + 42) + 13).\n",
        "\n",
        "This cumulative application of the function is the core mechanism of reduce()."
      ],
      "metadata": {
        "id": "zPa-TOvNChTy"
      }
    },
    {
      "cell_type": "markdown",
      "source": [
        "Practical Questions:\n"
      ],
      "metadata": {
        "id": "MJfX8-EtDP-k"
      }
    },
    {
      "cell_type": "markdown",
      "source": [
        "1. Write a Python function that takes a list of numbers as input and returns the sum of all even numbers in the list."
      ],
      "metadata": {
        "id": "7JK5xCSTDThG"
      }
    },
    {
      "cell_type": "code",
      "metadata": {
        "colab": {
          "base_uri": "https://localhost:8080/"
        },
        "id": "c88e8808",
        "outputId": "62a6e686-262e-4a50-f87a-cb7b603edd44"
      },
      "source": [
        "def sum_of_even_numbers(numbers):\n",
        "  \"\"\"\n",
        "  Calculates the sum of all even numbers in a list.\n",
        "\n",
        "  Args:\n",
        "    numbers: A list of numbers.\n",
        "\n",
        "  Returns:\n",
        "    The sum of all even numbers in the list.\n",
        "  \"\"\"\n",
        "  total_even = 0\n",
        "  for number in numbers:\n",
        "    if number % 2 == 0:\n",
        "      total_even += number\n",
        "  return total_even\n",
        "\n",
        "# Example usage:\n",
        "my_list = [1, 2, 3, 4, 5, 6, 7, 8, 9, 10]\n",
        "even_sum = sum_of_even_numbers(my_list)\n",
        "print(f\"The sum of even numbers in the list is: {even_sum}\")\n",
        "\n",
        "my_list_2 = [15, 23, 30, 42, 55]\n",
        "even_sum_2 = sum_of_even_numbers(my_list_2)\n",
        "print(f\"The sum of even numbers in the list is: {even_sum_2}\")"
      ],
      "execution_count": 13,
      "outputs": [
        {
          "output_type": "stream",
          "name": "stdout",
          "text": [
            "The sum of even numbers in the list is: 30\n",
            "The sum of even numbers in the list is: 72\n"
          ]
        }
      ]
    },
    {
      "cell_type": "markdown",
      "metadata": {
        "id": "ec51ac3c"
      },
      "source": [
        "In this function:\n",
        "\n",
        "1.  We initialize a variable `total_even` to 0.\n",
        "2.  We iterate through each `number` in the input `numbers` list.\n",
        "3.  Inside the loop, we use the modulo operator (`%`) to check if a number is even (`number % 2 == 0`).\n",
        "4.  If the number is even, we add it to `total_even`.\n",
        "5.  Finally, after checking all numbers in the list, the function returns the `total_even`."
      ]
    },
    {
      "cell_type": "markdown",
      "source": [
        "2. Create a Python function that accepts a string and returns the reverse of that string."
      ],
      "metadata": {
        "id": "bN6ODZIODfro"
      }
    },
    {
      "cell_type": "code",
      "metadata": {
        "colab": {
          "base_uri": "https://localhost:8080/"
        },
        "id": "398c13ae",
        "outputId": "54075107-dbf3-43a9-f993-c4126e8dd884"
      },
      "source": [
        "def reverse_string(input_string):\n",
        "  \"\"\"\n",
        "  Reverses a given string.\n",
        "\n",
        "  Args:\n",
        "    input_string: The string to reverse.\n",
        "\n",
        "  Returns:\n",
        "    The reversed string.\n",
        "  \"\"\"\n",
        "  return input_string[::-1]\n",
        "\n",
        "# Example usage:\n",
        "my_string = \"Hello, World!\"\n",
        "reversed = reverse_string(my_string)\n",
        "print(f\"The original string is: '{my_string}'\")\n",
        "print(f\"The reversed string is: '{reversed}'\")\n",
        "\n",
        "another_string = \"Python\"\n",
        "reversed_another = reverse_string(another_string)\n",
        "print(f\"The original string is: '{another_string}'\")\n",
        "print(f\"The reversed string is: '{reversed_another}'\")"
      ],
      "execution_count": 14,
      "outputs": [
        {
          "output_type": "stream",
          "name": "stdout",
          "text": [
            "The original string is: 'Hello, World!'\n",
            "The reversed string is: '!dlroW ,olleH'\n",
            "The original string is: 'Python'\n",
            "The reversed string is: 'nohtyP'\n"
          ]
        }
      ]
    },
    {
      "cell_type": "markdown",
      "metadata": {
        "id": "2c1b6344"
      },
      "source": [
        "In this function:\n",
        "\n",
        "1.  `reverse_string` takes one argument, `input_string`.\n",
        "2.  It uses string slicing with a step of `-1` (`[::-1]`) to create a reversed copy of the string.\n",
        "3.  The reversed string is then returned.\n",
        "\n",
        "This is a concise and common way to reverse strings in Python."
      ]
    },
    {
      "cell_type": "markdown",
      "source": [
        "3. Implement a Python function that takes a list of integers and returns a new list containing the squares of each number."
      ],
      "metadata": {
        "id": "Yp2pKeeHD4br"
      }
    },
    {
      "cell_type": "code",
      "metadata": {
        "colab": {
          "base_uri": "https://localhost:8080/"
        },
        "id": "82e0eba3",
        "outputId": "e6dfe205-0ae1-4bc4-99e9-76c8199b9df9"
      },
      "source": [
        "def square_numbers(numbers):\n",
        "  \"\"\"\n",
        "  Takes a list of integers and returns a new list with each number squared.\n",
        "\n",
        "  Args:\n",
        "    numbers: A list of integers.\n",
        "\n",
        "  Returns:\n",
        "    A new list containing the square of each number.\n",
        "  \"\"\"\n",
        "  squared_list = []\n",
        "  for number in numbers:\n",
        "    squared_list.append(number ** 2)\n",
        "  return squared_list\n",
        "\n",
        "# Example usage:\n",
        "my_numbers = [1, 2, 3, 4, 5]\n",
        "squared_result = square_numbers(my_numbers)\n",
        "print(f\"Original list: {my_numbers}\")\n",
        "print(f\"Squared list: {squared_result}\")\n",
        "\n",
        "another_list = [-2, 0, 5, 10]\n",
        "squared_result_2 = square_numbers(another_list)\n",
        "print(f\"\\nOriginal list: {another_list}\")\n",
        "print(f\"Squared list: {squared_result_2}\")"
      ],
      "execution_count": 15,
      "outputs": [
        {
          "output_type": "stream",
          "name": "stdout",
          "text": [
            "Original list: [1, 2, 3, 4, 5]\n",
            "Squared list: [1, 4, 9, 16, 25]\n",
            "\n",
            "Original list: [-2, 0, 5, 10]\n",
            "Squared list: [4, 0, 25, 100]\n"
          ]
        }
      ]
    },
    {
      "cell_type": "markdown",
      "metadata": {
        "id": "387d8cbb"
      },
      "source": [
        "In this function:\n",
        "\n",
        "1.  We initialize an empty list called `squared_list`.\n",
        "2.  We iterate through each `number` in the input `numbers` list.\n",
        "3.  For each number, we calculate its square using the `** 2` operator and append it to the `squared_list`.\n",
        "4.  Finally, the function returns the `squared_list` containing the squares of all numbers from the input list."
      ]
    },
    {
      "cell_type": "markdown",
      "source": [
        "4. Write a Python function that checks if a given number is prime or not from 1 to 200."
      ],
      "metadata": {
        "id": "ZNjMcMkVEWMY"
      }
    },
    {
      "cell_type": "code",
      "metadata": {
        "colab": {
          "base_uri": "https://localhost:8080/"
        },
        "id": "9f6f28de",
        "outputId": "5c9d49f3-d8eb-40cf-8072-308cdf8008a5"
      },
      "source": [
        "def is_prime(num):\n",
        "  \"\"\"\n",
        "  Checks if a given number is prime.\n",
        "\n",
        "  Args:\n",
        "    num: An integer.\n",
        "\n",
        "  Returns:\n",
        "    True if the number is prime, False otherwise.\n",
        "  \"\"\"\n",
        "  if num <= 1:\n",
        "    return False # Numbers less than or equal to 1 are not prime\n",
        "  if num <= 3:\n",
        "    return True  # 2 and 3 are prime\n",
        "  if num % 2 == 0 or num % 3 == 0:\n",
        "    return False # Multiples of 2 or 3 are not prime\n",
        "\n",
        "  # Check for prime by iterating up to the square root of the number\n",
        "  # We can skip checks for multiples of 2 and 3\n",
        "  i = 5\n",
        "  while i * i <= num:\n",
        "    if num % i == 0 or num % (i + 2) == 0:\n",
        "      return False\n",
        "    i += 6\n",
        "\n",
        "  return True\n",
        "\n",
        "# Example usage for numbers from 1 to 200\n",
        "print(\"Prime numbers between 1 and 200:\")\n",
        "for number in range(1, 201):\n",
        "  if is_prime(number):\n",
        "    print(number, end=\" \")"
      ],
      "execution_count": 16,
      "outputs": [
        {
          "output_type": "stream",
          "name": "stdout",
          "text": [
            "Prime numbers between 1 and 200:\n",
            "2 3 5 7 11 13 17 19 23 29 31 37 41 43 47 53 59 61 67 71 73 79 83 89 97 101 103 107 109 113 127 131 137 139 149 151 157 163 167 173 179 181 191 193 197 199 "
          ]
        }
      ]
    },
    {
      "cell_type": "markdown",
      "metadata": {
        "id": "bf0757da"
      },
      "source": [
        "In this function:\n",
        "\n",
        "1.  We handle the base cases for numbers less than or equal to 1 (not prime), and 2 and 3 (prime).\n",
        "2.  We quickly eliminate multiples of 2 and 3.\n",
        "3.  For numbers greater than 3, we check for divisibility by numbers of the form 6k ± 1 (since all primes greater than 3 are of this form). We only need to check up to the square root of the number.\n",
        "4.  If the number is not divisible by any of these, it's considered prime.\n",
        "\n",
        "The example code then iterates through numbers from 1 to 200 and uses the `is_prime` function to print the prime numbers in that range."
      ]
    },
    {
      "cell_type": "markdown",
      "source": [
        "5. Create an iterator class in Python that generates the Fibonacci sequence up to a specified number of\n",
        "terms."
      ],
      "metadata": {
        "id": "KjFQYb7sEeQK"
      }
    },
    {
      "cell_type": "code",
      "metadata": {
        "colab": {
          "base_uri": "https://localhost:8080/"
        },
        "id": "7b5fceec",
        "outputId": "544309fc-4b09-43fc-fc2b-3c5b4e5197fd"
      },
      "source": [
        "class FibonacciIterator:\n",
        "  \"\"\"An iterator that generates the Fibonacci sequence up to a specified number of terms.\"\"\"\n",
        "\n",
        "  def __init__(self, num_terms):\n",
        "    \"\"\"Initializes the FibonacciIterator.\n",
        "\n",
        "    Args:\n",
        "      num_terms: The number of Fibonacci terms to generate.\n",
        "    \"\"\"\n",
        "    self.num_terms = num_terms\n",
        "    self.current_term = 0\n",
        "    self.a = 0\n",
        "    self.b = 1\n",
        "\n",
        "  def __iter__(self):\n",
        "    \"\"\"Returns the iterator object itself.\"\"\"\n",
        "    return self\n",
        "\n",
        "  def __next__(self):\n",
        "    \"\"\"Generates the next Fibonacci number.\"\"\"\n",
        "    if self.current_term < self.num_terms:\n",
        "      if self.current_term == 0:\n",
        "        self.current_term += 1\n",
        "        return self.a\n",
        "      elif self.current_term == 1:\n",
        "        self.current_term += 1\n",
        "        return self.b\n",
        "      else:\n",
        "        next_fib = self.a + self.b\n",
        "        self.a = self.b\n",
        "        self.b = next_fib\n",
        "        self.current_term += 1\n",
        "        return next_fib\n",
        "    else:\n",
        "      raise StopIteration # Stop iteration when the specified number of terms is reached\n",
        "\n",
        "# Example usage:\n",
        "fib_iterator = FibonacciIterator(10) # Generate the first 10 Fibonacci terms\n",
        "\n",
        "print(\"Fibonacci sequence:\")\n",
        "for term in fib_iterator:\n",
        "  print(term)\n",
        "\n",
        "# You can also use next() directly (after creating a new iterator instance)\n",
        "print(\"\\nUsing next() for the first 5 terms:\")\n",
        "fib_iterator_2 = FibonacciIterator(5)\n",
        "print(next(fib_iterator_2))\n",
        "print(next(fib_iterator_2))\n",
        "print(next(fib_iterator_2))\n",
        "print(next(fib_iterator_2))\n",
        "print(next(fib_iterator_2))"
      ],
      "execution_count": 17,
      "outputs": [
        {
          "output_type": "stream",
          "name": "stdout",
          "text": [
            "Fibonacci sequence:\n",
            "0\n",
            "1\n",
            "1\n",
            "2\n",
            "3\n",
            "5\n",
            "8\n",
            "13\n",
            "21\n",
            "34\n",
            "\n",
            "Using next() for the first 5 terms:\n",
            "0\n",
            "1\n",
            "1\n",
            "2\n",
            "3\n"
          ]
        }
      ]
    },
    {
      "cell_type": "markdown",
      "metadata": {
        "id": "ccb8b2c4"
      },
      "source": [
        "In this `FibonacciIterator` class:\n",
        "\n",
        "1.  The `__init__` method initializes the iterator with the desired number of terms (`num_terms`) and sets up the initial values for the Fibonacci sequence (`a` and `b`) and a counter for the current term.\n",
        "2.  The `__iter__` method is required for an object to be an iterator. It simply returns `self`, as the iterator object itself is capable of iterating.\n",
        "3.  The `__next__` method contains the logic for generating the next Fibonacci number. It checks if the desired number of terms has been reached. If not, it calculates the next term, updates the state (`a` and `b`), increments the term counter, and `yield`s the next Fibonacci number. When the specified number of terms is reached, it raises `StopIteration`.\n",
        "\n",
        "The example usage shows how you can iterate through the `FibonacciIterator` using a `for` loop or by explicitly calling `next()`."
      ]
    },
    {
      "cell_type": "markdown",
      "source": [
        "6. Write a generator function in Python that yields the powers of 2 up to a given exponent.\n"
      ],
      "metadata": {
        "id": "VDyp0H9LE2qR"
      }
    },
    {
      "cell_type": "code",
      "metadata": {
        "colab": {
          "base_uri": "https://localhost:8080/"
        },
        "id": "a72bcc81",
        "outputId": "3c829bb5-a35b-4f35-b743-886c5fa589c3"
      },
      "source": [
        "def powers_of_two(exponent):\n",
        "  \"\"\"\n",
        "  A generator function that yields powers of 2 up to a given exponent.\n",
        "\n",
        "  Args:\n",
        "    exponent: The maximum exponent (inclusive).\n",
        "\n",
        "  Yields:\n",
        "    The next power of 2.\n",
        "  \"\"\"\n",
        "  power = 0\n",
        "  while power <= exponent:\n",
        "    yield 2 ** power\n",
        "    power += 1\n",
        "\n",
        "# Example usage:\n",
        "powers_gen = powers_of_two(5)\n",
        "\n",
        "print(\"Powers of 2 up to exponent 5:\")\n",
        "for p in powers_gen:\n",
        "  print(p)\n",
        "\n",
        "# Another example\n",
        "powers_gen_2 = powers_of_two(3)\n",
        "print(\"\\nPowers of 2 up to exponent 3:\")\n",
        "print(next(powers_gen_2))\n",
        "print(next(powers_gen_2))\n",
        "print(next(powers_gen_2))\n",
        "print(next(powers_gen_2))"
      ],
      "execution_count": 18,
      "outputs": [
        {
          "output_type": "stream",
          "name": "stdout",
          "text": [
            "Powers of 2 up to exponent 5:\n",
            "1\n",
            "2\n",
            "4\n",
            "8\n",
            "16\n",
            "32\n",
            "\n",
            "Powers of 2 up to exponent 3:\n",
            "1\n",
            "2\n",
            "4\n",
            "8\n"
          ]
        }
      ]
    },
    {
      "cell_type": "markdown",
      "metadata": {
        "id": "02d42137"
      },
      "source": [
        "In this generator function:\n",
        "\n",
        "1.  `powers_of_two(exponent)` takes the maximum `exponent` as input.\n",
        "2.  It initializes `power` to 0.\n",
        "3.  The `while` loop continues as long as the current `power` is less than or equal to the specified `exponent`.\n",
        "4.  Inside the loop, `yield 2 ** power` calculates 2 raised to the current `power` and yields that value. The function then pauses.\n",
        "5.  `power += 1` increments the power for the next iteration.\n",
        "6.  When the loop condition `power <= exponent` is no longer true, the generator is exhausted.\n",
        "\n",
        "The example usage shows how to iterate through the generated powers of 2 using a `for` loop or by explicitly calling `next()`."
      ]
    },
    {
      "cell_type": "markdown",
      "source": [
        "7. Implement a generator function that reads a file line by line and yields each line as a string."
      ],
      "metadata": {
        "id": "Aibvls9xFAyf"
      }
    },
    {
      "cell_type": "code",
      "metadata": {
        "colab": {
          "base_uri": "https://localhost:8080/"
        },
        "id": "6c935ba7",
        "outputId": "a3154396-8caf-4e62-cf15-2b5374fc7d58"
      },
      "source": [
        "# Create a dummy file for demonstration\n",
        "file_content = \"\"\"This is the first line.\n",
        "This is the second line.\n",
        "And the third line.\"\"\"\n",
        "\n",
        "with open(\"my_example_file.txt\", \"w\") as f:\n",
        "  f.write(file_content)\n",
        "\n",
        "print(\"Dummy file 'my_example_file.txt' created.\")"
      ],
      "execution_count": 19,
      "outputs": [
        {
          "output_type": "stream",
          "name": "stdout",
          "text": [
            "Dummy file 'my_example_file.txt' created.\n"
          ]
        }
      ]
    },
    {
      "cell_type": "code",
      "metadata": {
        "colab": {
          "base_uri": "https://localhost:8080/"
        },
        "id": "bee23d69",
        "outputId": "9268fce3-1e72-4971-b154-efa7651de9e2"
      },
      "source": [
        "def read_file_lines(filename):\n",
        "  \"\"\"\n",
        "  A generator function that reads a file line by line and yields each line.\n",
        "\n",
        "  Args:\n",
        "    filename: The path to the file to read.\n",
        "\n",
        "  Yields:\n",
        "    Each line of the file as a string.\n",
        "  \"\"\"\n",
        "  try:\n",
        "    with open(filename, 'r') as f:\n",
        "      for line in f:\n",
        "        yield line.strip() # .strip() removes leading/trailing whitespace, including newline characters\n",
        "  except FileNotFoundError:\n",
        "    print(f\"Error: File '{filename}' not found.\")\n",
        "  except Exception as e:\n",
        "    print(f\"An error occurred: {e}\")\n",
        "\n",
        "# Example usage:\n",
        "print(\"\\nReading file using the generator:\")\n",
        "for file_line in read_file_lines(\"my_example_file.txt\"):\n",
        "  print(f\"Read line: {file_line}\")\n",
        "\n",
        "# Example with a non-existent file\n",
        "print(\"\\nAttempting to read a non-existent file:\")\n",
        "for file_line in read_file_lines(\"non_existent_file.txt\"):\n",
        "  print(f\"Read line: {file_line}\")"
      ],
      "execution_count": 20,
      "outputs": [
        {
          "output_type": "stream",
          "name": "stdout",
          "text": [
            "\n",
            "Reading file using the generator:\n",
            "Read line: This is the first line.\n",
            "Read line: This is the second line.\n",
            "Read line: And the third line.\n",
            "\n",
            "Attempting to read a non-existent file:\n",
            "Error: File 'non_existent_file.txt' not found.\n"
          ]
        }
      ]
    },
    {
      "cell_type": "markdown",
      "metadata": {
        "id": "035e77c6"
      },
      "source": [
        "In this generator function:\n",
        "\n",
        "1.  `read_file_lines(filename)` takes the name of the file to read.\n",
        "2.  It uses a `try...except` block to handle potential `FileNotFoundError` or other exceptions during file operations.\n",
        "3.  `with open(filename, 'r') as f:` opens the file in read mode. The `with` statement ensures the file is automatically closed even if errors occur.\n",
        "4.  `for line in f:` iterates directly over the file object `f`. File objects in Python are their own iterators, yielding one line at a time.\n",
        "5.  `yield line.strip()` yields the current `line` after removing any leading or trailing whitespace (including the newline character `\\n`) using `.strip()`. The `yield` keyword makes this a generator function.\n",
        "\n",
        "The example usage shows how to iterate through the lines of the file using the `read_file_lines` generator."
      ]
    },
    {
      "cell_type": "markdown",
      "source": [
        "8. Use a lambda function in Python to sort a list of tuples based on the second element of each tuple."
      ],
      "metadata": {
        "id": "_yJTSEj4FLEe"
      }
    },
    {
      "cell_type": "code",
      "metadata": {
        "colab": {
          "base_uri": "https://localhost:8080/"
        },
        "id": "047a858c",
        "outputId": "9b2433f1-1ade-40ba-a685-2f434074f2ca"
      },
      "source": [
        "# List of tuples\n",
        "list_of_tuples = [(1, 'c'), (3, 'a'), (2, 'd'), (4, 'b')]\n",
        "\n",
        "# Sort the list of tuples based on the second element using a lambda function\n",
        "# The lambda function `lambda x: x[1]` tells sorted() to use the element at index 1 (the second element) for sorting\n",
        "sorted_list = sorted(list_of_tuples, key=lambda x: x[1])\n",
        "\n",
        "print(f\"Original list: {list_of_tuples}\")\n",
        "print(f\"Sorted list (by second element): {sorted_list}\")\n",
        "\n",
        "# Another example with numbers\n",
        "list_of_tuples_2 = [(10, 5), (20, 2), (5, 8)]\n",
        "sorted_list_2 = sorted(list_of_tuples_2, key=lambda x: x[1])\n",
        "\n",
        "print(f\"\\nOriginal list: {list_of_tuples_2}\")\n",
        "print(f\"Sorted list (by second element): {sorted_list_2}\")"
      ],
      "execution_count": 21,
      "outputs": [
        {
          "output_type": "stream",
          "name": "stdout",
          "text": [
            "Original list: [(1, 'c'), (3, 'a'), (2, 'd'), (4, 'b')]\n",
            "Sorted list (by second element): [(3, 'a'), (4, 'b'), (1, 'c'), (2, 'd')]\n",
            "\n",
            "Original list: [(10, 5), (20, 2), (5, 8)]\n",
            "Sorted list (by second element): [(20, 2), (10, 5), (5, 8)]\n"
          ]
        }
      ]
    },
    {
      "cell_type": "markdown",
      "metadata": {
        "id": "0b98d5db"
      },
      "source": [
        "In this example:\n",
        "\n",
        "1.  We have a `list_of_tuples`.\n",
        "2.  We use the built-in `sorted()` function to sort the list.\n",
        "3.  The crucial part is the `key=lambda x: x[1]`.\n",
        "    *   `key` is an argument to `sorted()` that specifies a function of one argument that is used to extract a comparison key from each list element.\n",
        "    *   `lambda x: x[1]` is a small anonymous function that takes one argument `x` (which will be each tuple in the list) and returns `x[1]` (the element at index 1, i.e., the second element).\n",
        "4.  `sorted()` uses the values returned by this lambda function to determine the order of the tuples in the resulting sorted list.\n",
        "\n",
        "This is a common and concise way to perform custom sorting in Python."
      ]
    },
    {
      "cell_type": "markdown",
      "source": [
        "9. Write a Python program that uses `map()` to convert a list of temperatures from Celsius to Fahrenheit."
      ],
      "metadata": {
        "id": "8nQgyhedFVi2"
      }
    },
    {
      "cell_type": "code",
      "metadata": {
        "colab": {
          "base_uri": "https://localhost:8080/"
        },
        "id": "9e741a1f",
        "outputId": "0fb86e8f-484b-4247-e50e-d2e5ad8397fe"
      },
      "source": [
        "# Define a list of temperatures in Celsius\n",
        "celsius_temperatures = [0, 10, 20, 30, 40, -10]\n",
        "\n",
        "# Define a function to convert Celsius to Fahrenheit\n",
        "# Formula: (Celsius * 9/5) + 32\n",
        "def celsius_to_fahrenheit(celsius):\n",
        "  return (celsius * 9/5) + 32\n",
        "\n",
        "# Use map() to apply the conversion function to each Celsius temperature\n",
        "fahrenheit_temperatures_map = map(celsius_to_fahrenheit, celsius_temperatures)\n",
        "\n",
        "# Convert the map object to a list to view the results\n",
        "fahrenheit_list = list(fahrenheit_temperatures_map)\n",
        "\n",
        "print(f\"Celsius temperatures: {celsius_temperatures}\")\n",
        "print(f\"Fahrenheit temperatures (using map): {fahrenheit_list}\")\n",
        "\n",
        "# Another example using a lambda function with map\n",
        "fahrenheit_temperatures_lambda = list(map(lambda c: (c * 9/5) + 32, celsius_temperatures))\n",
        "print(f\"Fahrenheit temperatures (using map and lambda): {fahrenheit_temperatures_lambda}\")"
      ],
      "execution_count": 22,
      "outputs": [
        {
          "output_type": "stream",
          "name": "stdout",
          "text": [
            "Celsius temperatures: [0, 10, 20, 30, 40, -10]\n",
            "Fahrenheit temperatures (using map): [32.0, 50.0, 68.0, 86.0, 104.0, 14.0]\n",
            "Fahrenheit temperatures (using map and lambda): [32.0, 50.0, 68.0, 86.0, 104.0, 14.0]\n"
          ]
        }
      ]
    },
    {
      "cell_type": "markdown",
      "metadata": {
        "id": "e7989be1"
      },
      "source": [
        "In this program:\n",
        "\n",
        "1.  We have a list `celsius_temperatures`.\n",
        "2.  We define a function `celsius_to_fahrenheit` that takes a Celsius temperature and returns the equivalent Fahrenheit temperature using the standard conversion formula.\n",
        "3.  `map(celsius_to_fahrenheit, celsius_temperatures)` applies the `celsius_to_fahrenheit` function to each element in the `celsius_temperatures` list. It returns a `map` object, which is an iterator.\n",
        "4.  We convert the `map` object to a list (`fahrenheit_list`) to display the results.\n",
        "5.  The second example shows how you could achieve the same result concisely using a `lambda` function directly within `map()`.\n",
        "\n",
        "This demonstrates how `map()` can be used to apply a transformation function to every item in an iterable."
      ]
    },
    {
      "cell_type": "markdown",
      "source": [
        "10. Create a Python program that uses `filter()` to remove all the vowels from a given string."
      ],
      "metadata": {
        "id": "cGUEGBjpFcQf"
      }
    },
    {
      "cell_type": "code",
      "metadata": {
        "colab": {
          "base_uri": "https://localhost:8080/"
        },
        "id": "071ac745",
        "outputId": "b5206b8a-e746-48a2-f090-11c33eff38b1"
      },
      "source": [
        "# Define a string\n",
        "input_string = \"Hello, World!\"\n",
        "\n",
        "# Define a function to check if a character is a vowel\n",
        "def is_not_vowel(char):\n",
        "  vowels = \"aeiouAEIOU\"\n",
        "  return char not in vowels\n",
        "\n",
        "# Use filter() to remove vowels from the string\n",
        "# filter() returns an iterator, so we join the characters back into a string\n",
        "filtered_characters = filter(is_not_vowel, input_string)\n",
        "result_string = \"\".join(filtered_characters)\n",
        "\n",
        "print(f\"Original string: '{input_string}'\")\n",
        "print(f\"String after removing vowels (using filter): '{result_string}'\")\n",
        "\n",
        "# Another example with a different string\n",
        "another_string = \"Programming is fun\"\n",
        "filtered_characters_2 = filter(is_not_vowel, another_string)\n",
        "result_string_2 = \"\".join(filtered_characters_2)\n",
        "\n",
        "print(f\"\\nOriginal string: '{another_string}'\")\n",
        "print(f\"String after removing vowels (using filter): '{result_string_2}'\")"
      ],
      "execution_count": 23,
      "outputs": [
        {
          "output_type": "stream",
          "name": "stdout",
          "text": [
            "Original string: 'Hello, World!'\n",
            "String after removing vowels (using filter): 'Hll, Wrld!'\n",
            "\n",
            "Original string: 'Programming is fun'\n",
            "String after removing vowels (using filter): 'Prgrmmng s fn'\n"
          ]
        }
      ]
    },
    {
      "cell_type": "markdown",
      "metadata": {
        "id": "e67844c2"
      },
      "source": [
        "In this program:\n",
        "\n",
        "1.  We have an `input_string`.\n",
        "2.  We define a function `is_not_vowel` that takes a character and returns `True` if the character is not a vowel, and `False` otherwise.\n",
        "3.  `filter(is_not_vowel, input_string)` applies the `is_not_vowel` function to each character in the `input_string`. It returns a `filter` object (an iterator) containing only the characters for which `is_not_vowel` returned `True`.\n",
        "4.  We then use `\"\".join(...)` to join the characters from the `filter` iterator back into a single string.\n",
        "\n",
        "This demonstrates how `filter()` can be used to select elements from an iterable based on a condition."
      ]
    },
    {
      "cell_type": "markdown",
      "source": [
        "11) Imagine an accounting routine used in a book shop. It works on a list with sublists, which look like this:\n",
        "\n",
        "\n",
        "\n",
        "\n",
        "\n",
        "\n",
        "- Write a Python program, which returns a list with 2-tuples. Each tuple consists of the order number and the\n",
        "product of the price per item and the quantity. The product should be increased by 10,- € if the value of the\n",
        "order is smaller than 100,00 €.\n",
        "\n",
        "- Write a Python program using lambda and map"
      ],
      "metadata": {
        "id": "agCFyZboFinW"
      }
    },
    {
      "cell_type": "code",
      "metadata": {
        "colab": {
          "base_uri": "https://localhost:8080/"
        },
        "id": "d9935524",
        "outputId": "d2b2a2bf-48b9-4b8d-9165-501b8942b6fc"
      },
      "source": [
        "from functools import reduce # Import reduce if needed for other tasks, though not strictly necessary for this map/lambda solution\n",
        "\n",
        "# Sample list of orders: Each sublist is [order_number, item_name, price_per_item, quantity]\n",
        "orders = [\n",
        "    [101, 'Python Book', 25.00, 2],\n",
        "    [102, 'Data Science Book', 45.00, 1],\n",
        "    [103, 'AI Book', 60.00, 3],\n",
        "    [104, 'Web Dev Book', 30.00, 5],\n",
        "    [105, 'History Book', 15.00, 4]\n",
        "]\n",
        "\n",
        "# Use map and lambda to process the orders\n",
        "# The lambda function takes an order sublist (o)\n",
        "# It calculates the product (price * quantity)\n",
        "# It checks if the product is less than 100 and adds 10 if it is\n",
        "# It returns a tuple of (order_number, adjusted_product)\n",
        "processed_orders = list(map(lambda o: (o[0], o[2] * o[3] + (10 if o[2] * o[3] < 100 else 0)), orders))\n",
        "\n",
        "print(\"Original orders:\")\n",
        "for order in orders:\n",
        "    print(order)\n",
        "\n",
        "print(\"\\nProcessed orders (Order Number, Adjusted Total):\")\n",
        "for processed_order in processed_orders:\n",
        "    print(processed_order)"
      ],
      "execution_count": 24,
      "outputs": [
        {
          "output_type": "stream",
          "name": "stdout",
          "text": [
            "Original orders:\n",
            "[101, 'Python Book', 25.0, 2]\n",
            "[102, 'Data Science Book', 45.0, 1]\n",
            "[103, 'AI Book', 60.0, 3]\n",
            "[104, 'Web Dev Book', 30.0, 5]\n",
            "[105, 'History Book', 15.0, 4]\n",
            "\n",
            "Processed orders (Order Number, Adjusted Total):\n",
            "(101, 60.0)\n",
            "(102, 55.0)\n",
            "(103, 180.0)\n",
            "(104, 150.0)\n",
            "(105, 70.0)\n"
          ]
        }
      ]
    },
    {
      "cell_type": "markdown",
      "metadata": {
        "id": "305f951f"
      },
      "source": [
        "In this program:\n",
        "\n",
        "1.  We define a sample `orders` list, where each inner list represents an order with `[order_number, item_name, price_per_item, quantity]`.\n",
        "2.  We use the `map()` function with a `lambda` function to process each `order` sublist in the `orders` list.\n",
        "3.  The `lambda o: ...` defines an anonymous function that takes one argument `o` (which will be each sublist from `orders`).\n",
        "4.  Inside the lambda, `o[2] * o[3]` calculates the product of the price and quantity.\n",
        "5.  `(10 if o[2] * o[3] < 100 else 0)` is a conditional expression that adds 10 to the product if the product is less than 100, otherwise adds 0.\n",
        "6.  `(o[0], ...)` creates a tuple containing the order number (`o[0]`) and the calculated adjusted product.\n",
        "7.  `map()` applies this lambda function to every sublist in `orders`, producing an iterator of the resulting tuples.\n",
        "8.  `list(...)` converts the map iterator into a list for printing.\n",
        "\n",
        "This program efficiently processes the list of orders using a combination of `map` and a `lambda` function, fulfilling the requirements of the task."
      ]
    }
  ]
}